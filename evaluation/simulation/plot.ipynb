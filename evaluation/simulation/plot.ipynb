{
 "cells": [
  {
   "cell_type": "code",
   "execution_count": 2,
   "metadata": {},
   "outputs": [],
   "source": [
    "import numpy as np\n",
    "import pandas as pd\n",
    "import seaborn as sns\n",
    "import matplotlib.pyplot as plt"
   ]
  },
  {
   "cell_type": "code",
   "execution_count": 21,
   "metadata": {},
   "outputs": [
    {
     "name": "stdout",
     "output_type": "stream",
     "text": [
      "   Width(cm)  Eff(%)\n",
      "0          2    40.3\n",
      "1          3    52.5\n",
      "2          4    62.4\n",
      "3          5    57.8\n",
      "4          6    56.5\n"
     ]
    },
    {
     "data": {
      "image/png": "[encoded data removed]",
      "text/plain": [
       "<Figure size 275.591x149.606 with 1 Axes>"
      ]
     },
     "metadata": {},
     "output_type": "display_data"
    }
   ],
   "source": [
    "df = pd.read_csv(\"eff_for_width.csv\")\n",
    "print(df.head())\n",
    "\n",
    "\n",
    "#sns.set()\n",
    "#sns.set_style(\"whitegrid\", {'grid.linestyle': '--'})\n",
    "\n",
    "plt.rcParams.update({'mathtext.default': 'default',\n",
    "                         'mathtext.fontset': 'stix',\n",
    "                         'font.family': 'Times New Roman',\n",
    "                         'font.size': 9,\n",
    "                         'xtick.direction': 'in',\n",
    "                         'ytick.direction': 'in',\n",
    "                         'axes.axisbelow': True,\n",
    "                         })\n",
    "\n",
    "# 図のサイズを設定\n",
    "width_inch = 7 / 2.54\n",
    "height_inch = 3.8 / 2.54\n",
    "fig, ax = plt.subplots(figsize=(width_inch, height_inch))\n",
    "\n",
    "# 余白を調整\n",
    "#plt.subplots_adjust(left=0.15, right=0.95, top=0.95, bottom=0.15)\n",
    "\n",
    "# 軸ラベルと範囲を設定\n",
    "ax.set_xlabel('Width (cm)', labelpad=0)\n",
    "ax.set_xlim([2, 8])\n",
    "ax.set_ylabel('Power transfer \\nefficiency (%)', labelpad=0)\n",
    "ax.set_ylim([0, 100])\n",
    "\n",
    "    # 枠線の太さをまとめて設定\n",
    "for spine in ax.spines.values():\n",
    "    spine.set_linewidth(0.5)\n",
    "\n",
    "# 軸目盛りを設定\n",
    "plt.xticks(np.arange(2, 8+1, step=1))\n",
    "plt.yticks(np.arange(0, 101, step=20))\n",
    "\n",
    "# グリッドを設定\n",
    "#plt.grid(color='gray', linestyle='--')\n",
    "\n",
    "# データをプロット\n",
    "ax.plot(df['Width(cm)'], df['Eff(%)'], 'o-', color='#4176F6', markersize=3)\n",
    "#ax.plot(df['Distance (mm)']/1e1, df['Eff w/ motor (%)'], 'o-', label='W/ motor', color='#4176F6', markersize=3)\n",
    "\n",
    "# 凡例を表示\n",
    "#plt.legend()\n",
    "\n",
    "# タイトレイアウト\n",
    "plt.tight_layout()\n",
    "\n",
    "# 図を保存\n",
    "plt.savefig('Eff_for_width.svg')\n",
    "\n",
    "# 図を表示\n",
    "plt.show()"
   ]
  }
 ],
 "metadata": {
  "kernelspec": {
   "display_name": "base",
   "language": "python",
   "name": "python3"
  },
  "language_info": {
   "codemirror_mode": {
    "name": "ipython",
    "version": 3
   },
   "file_extension": ".py",
   "mimetype": "text/x-python",
   "name": "python",
   "nbconvert_exporter": "python",
   "pygments_lexer": "ipython3",
   "version": "3.10.9"
  },
  "orig_nbformat": 4
 },
 "nbformat": 4,
 "nbformat_minor": 2
}
